{
 "cells": [
  {
   "cell_type": "markdown",
   "source": [
    "We are planning to use MLPs here to replace positional encoding functions. Let's start with simple ones."
   ],
   "metadata": {
    "collapsed": false
   }
  },
  {
   "cell_type": "code",
   "execution_count": 92,
   "outputs": [
    {
     "name": "stdout",
     "output_type": "stream",
     "text": [
      "Direct combined token and positional embeddings from GPT-2:\n",
      "tensor([[-0.1352, -0.1314, -0.0387,  ..., -0.0573, -0.0422,  0.0286],\n",
      "        [ 0.0692,  0.0637,  0.0399,  ...,  0.1743, -0.0916, -0.0058],\n",
      "        [-0.0133, -0.0195,  0.0106,  ..., -0.0330, -0.1536,  0.0116]],\n",
      "       grad_fn=<AddBackward0>)\n",
      "\n",
      "Positional Encoding from custom PositionalEncoder (added to token embeddings):\n",
      "tensor([[-0.1352, -0.1314, -0.0387,  ..., -0.0573, -0.0422,  0.0286],\n",
      "        [ 0.0692,  0.0637,  0.0399,  ...,  0.1743, -0.0916, -0.0058],\n",
      "        [-0.0133, -0.0195,  0.0106,  ..., -0.0330, -0.1536,  0.0116]],\n",
      "       grad_fn=<SliceBackward0>)\n"
     ]
    }
   ],
   "source": [
    "import torch\n",
    "import torch.nn as nn\n",
    "from transformers import GPT2Model, GPT2Tokenizer\n",
    "\n",
    "# Define model path\n",
    "MODEL_PATH = r'C:\\Users\\shaow\\.cache\\huggingface\\hub\\models--gpt2-medium\\snapshots\\f65d4965d1221eff2bcf34f53a2ba12120e18f24'\n",
    "\n",
    "# Load GPT2 model and tokenizer\n",
    "gpt2_model = GPT2Model.from_pretrained(MODEL_PATH)\n",
    "tokenizer = GPT2Tokenizer.from_pretrained(MODEL_PATH)\n",
    "\n",
    "# Extract positional embeddings from GPT-2 model\n",
    "gpt2_positional_embeddings = gpt2_model.wpe.weight.data\n",
    "\n",
    "# Define a positional encoder using a linear layer\n",
    "class PositionalEncoder(nn.Module):\n",
    "    def __init__(self, embedding_dimension, max_positions=1024):\n",
    "        super(PositionalEncoder, self).__init__()\n",
    "        self.linear = nn.Linear(embedding_dimension, embedding_dimension, bias=True)\n",
    "        self.linear.weight.data = torch.eye(embedding_dimension)\n",
    "        self.linear.bias.data = gpt2_positional_embeddings[:max_positions].clone()\n",
    "        self.max_positions = max_positions\n",
    "\n",
    "    def forward(self, embeddings: torch.Tensor) -> torch.Tensor:\n",
    "        seq_length = embeddings.size(0)\n",
    "        padded_embeddings = torch.cat([embeddings, torch.zeros(self.max_positions - seq_length, embeddings.size(1)).to(embeddings.device)], dim=0)\n",
    "        encoded = self.linear(padded_embeddings)\n",
    "        return encoded[:seq_length]\n",
    "\n",
    "# Prepare input data\n",
    "input_text = \"Hello world!\"\n",
    "tokenized_inputs = tokenizer(input_text, return_tensors=\"pt\")\n",
    "input_ids = tokenized_inputs[\"input_ids\"]\n",
    "\n",
    "# Get token embeddings from GPT-2 model\n",
    "token_embeddings = gpt2_model.wte(input_ids).squeeze()\n",
    "\n",
    "# Compute combined token and positional embeddings directly from GPT-2\n",
    "position_ids = torch.arange(0, input_ids.size(1), dtype=torch.long, device=input_ids.device).unsqueeze(0).expand_as(input_ids)\n",
    "direct_gpt2_positional_embeddings = gpt2_model.wpe(position_ids).squeeze()\n",
    "combined_embeddings_direct = token_embeddings + direct_gpt2_positional_embeddings\n",
    "\n",
    "print(\"Direct combined token and positional embeddings from GPT-2:\")\n",
    "print(combined_embeddings_direct)\n",
    "\n",
    "# Using custom positional encoder\n",
    "embedding_dimension = gpt2_positional_embeddings.size(1)\n",
    "custom_encoder = PositionalEncoder(embedding_dimension)\n",
    "custom_encoded_positions = custom_encoder(token_embeddings)\n",
    "print(\"\\nPositional Encoding from custom PositionalEncoder (added to token embeddings):\")\n",
    "print(custom_encoded_positions)"
   ],
   "metadata": {
    "collapsed": false
   }
  },
  {
   "cell_type": "code",
   "execution_count": 93,
   "outputs": [
    {
     "name": "stdout",
     "output_type": "stream",
     "text": [
      "\n",
      "GPT-2 output with custom positional embeddings:\n",
      "tensor([[ 0.6711,  0.6076, -0.1074,  ..., -0.5113, -0.3370,  0.2346],\n",
      "        [ 0.7570,  0.0672,  0.4193,  ...,  0.0518, -0.2396,  0.2325],\n",
      "        [ 0.2106, -0.2740,  0.0330,  ..., -0.0427,  0.0995, -0.0989]],\n",
      "       grad_fn=<SqueezeBackward0>)\n"
     ]
    }
   ],
   "source": [
    "# Ensure GPT2's positional embeddings are zero to prevent double addition\n",
    "gpt2_model.wpe.weight.data = torch.zeros_like(gpt2_model.wpe.weight.data)\n",
    "\n",
    "# Get GPT-2 output using custom combined embeddings\n",
    "outputs = gpt2_model(inputs_embeds=custom_encoded_positions.unsqueeze(0))\n",
    "final_output = outputs.last_hidden_state.squeeze()\n",
    "print(\"\\nGPT-2 output with custom positional embeddings:\")\n",
    "print(final_output)"
   ],
   "metadata": {
    "collapsed": false
   }
  },
  {
   "cell_type": "code",
   "execution_count": 94,
   "outputs": [
    {
     "name": "stdout",
     "output_type": "stream",
     "text": [
      "Original GPT-2 output:\n",
      "tensor([[ 0.6711,  0.6076, -0.1074,  ..., -0.5113, -0.3370,  0.2346],\n",
      "        [ 0.7570,  0.0672,  0.4193,  ...,  0.0518, -0.2396,  0.2325],\n",
      "        [ 0.2106, -0.2740,  0.0330,  ..., -0.0427,  0.0995, -0.0989]],\n",
      "       grad_fn=<SqueezeBackward0>)\n"
     ]
    }
   ],
   "source": [
    "# Load GPT2 model and tokenizer\n",
    "gpt2_model = GPT2Model.from_pretrained(MODEL_PATH)\n",
    "tokenizer = GPT2Tokenizer.from_pretrained(MODEL_PATH)\n",
    "\n",
    "# Prepare input data\n",
    "input_text = \"Hello world!\"\n",
    "tokenized_inputs = tokenizer(input_text, return_tensors=\"pt\")\n",
    "input_ids = tokenized_inputs[\"input_ids\"]\n",
    "\n",
    "# Get output from original GPT-2 model\n",
    "outputs = gpt2_model(input_ids)\n",
    "original_gpt2_output = outputs.last_hidden_state.squeeze()\n",
    "\n",
    "print(\"Original GPT-2 output:\")\n",
    "print(original_gpt2_output)\n"
   ],
   "metadata": {
    "collapsed": false
   }
  },
  {
   "cell_type": "markdown",
   "source": [
    "How about softmax function?"
   ],
   "metadata": {
    "collapsed": false
   }
  }
 ],
 "metadata": {
  "kernelspec": {
   "display_name": "Python 3",
   "language": "python",
   "name": "python3"
  },
  "language_info": {
   "codemirror_mode": {
    "name": "ipython",
    "version": 2
   },
   "file_extension": ".py",
   "mimetype": "text/x-python",
   "name": "python",
   "nbconvert_exporter": "python",
   "pygments_lexer": "ipython2",
   "version": "2.7.6"
  }
 },
 "nbformat": 4,
 "nbformat_minor": 0
}
