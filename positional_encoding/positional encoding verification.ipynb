{
 "cells": [
  {
   "cell_type": "markdown",
   "source": [
    "We are planning to use MLPs here to replace positional encoding functions. Let's start with simple ones."
   ],
   "metadata": {
    "collapsed": false
   }
  },
  {
   "cell_type": "code",
   "execution_count": null,
   "outputs": [],
   "source": [
    "# we can simply extract the positional encoding table in pretrained models and make it a linear layer, or we can add an activation function like ReLU, allowing it to handle non-linear jobs (assume all positional encoding>0 originally)"
   ],
   "metadata": {
    "collapsed": false
   }
  },
  {
   "cell_type": "markdown",
   "source": [
    "How about softmax function?"
   ],
   "metadata": {
    "collapsed": false
   }
  }
 ],
 "metadata": {
  "kernelspec": {
   "display_name": "Python 3",
   "language": "python",
   "name": "python3"
  },
  "language_info": {
   "codemirror_mode": {
    "name": "ipython",
    "version": 2
   },
   "file_extension": ".py",
   "mimetype": "text/x-python",
   "name": "python",
   "nbconvert_exporter": "python",
   "pygments_lexer": "ipython2",
   "version": "2.7.6"
  }
 },
 "nbformat": 4,
 "nbformat_minor": 0
}
